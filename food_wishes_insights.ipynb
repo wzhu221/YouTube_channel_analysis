{
 "cells": [
  {
   "cell_type": "code",
   "execution_count": 1,
   "metadata": {},
   "outputs": [],
   "source": [
    "import pandas as pd"
   ]
  },
  {
   "cell_type": "code",
   "execution_count": 3,
   "metadata": {},
   "outputs": [
    {
     "data": {
      "text/html": [
       "<div>\n",
       "<style scoped>\n",
       "    .dataframe tbody tr th:only-of-type {\n",
       "        vertical-align: middle;\n",
       "    }\n",
       "\n",
       "    .dataframe tbody tr th {\n",
       "        vertical-align: top;\n",
       "    }\n",
       "\n",
       "    .dataframe thead th {\n",
       "        text-align: right;\n",
       "    }\n",
       "</style>\n",
       "<table border=\"1\" class=\"dataframe\">\n",
       "  <thead>\n",
       "    <tr style=\"text-align: right;\">\n",
       "      <th></th>\n",
       "      <th>Unnamed: 0</th>\n",
       "      <th>video_id</th>\n",
       "      <th>video_title</th>\n",
       "      <th>upload_date</th>\n",
       "      <th>view_count</th>\n",
       "      <th>like_count</th>\n",
       "      <th>comment_count</th>\n",
       "    </tr>\n",
       "  </thead>\n",
       "  <tbody>\n",
       "    <tr>\n",
       "      <th>0</th>\n",
       "      <td>0</td>\n",
       "      <td>CQPLo8hECWg</td>\n",
       "      <td>Twice Baked Potatoes -- How to Make Fancy Stuf...</td>\n",
       "      <td>2012-12-15</td>\n",
       "      <td>4194422</td>\n",
       "      <td>47208</td>\n",
       "      <td>1950</td>\n",
       "    </tr>\n",
       "    <tr>\n",
       "      <th>1</th>\n",
       "      <td>1</td>\n",
       "      <td>TsrTU3CJn2c</td>\n",
       "      <td>Irish Shepherd's Pie - Classic Shepherd Pie fo...</td>\n",
       "      <td>2012-03-05</td>\n",
       "      <td>2730601</td>\n",
       "      <td>44227</td>\n",
       "      <td>2843</td>\n",
       "    </tr>\n",
       "    <tr>\n",
       "      <th>2</th>\n",
       "      <td>2</td>\n",
       "      <td>wRtGM3f-UBc</td>\n",
       "      <td>How to Flip Food in a Pan Like a Chef!</td>\n",
       "      <td>2012-10-04</td>\n",
       "      <td>2764300</td>\n",
       "      <td>17836</td>\n",
       "      <td>1383</td>\n",
       "    </tr>\n",
       "  </tbody>\n",
       "</table>\n",
       "</div>"
      ],
      "text/plain": [
       "   Unnamed: 0     video_id                                        video_title  \\\n",
       "0           0  CQPLo8hECWg  Twice Baked Potatoes -- How to Make Fancy Stuf...   \n",
       "1           1  TsrTU3CJn2c  Irish Shepherd's Pie - Classic Shepherd Pie fo...   \n",
       "2           2  wRtGM3f-UBc             How to Flip Food in a Pan Like a Chef!   \n",
       "\n",
       "  upload_date  view_count  like_count  comment_count  \n",
       "0  2012-12-15     4194422       47208           1950  \n",
       "1  2012-03-05     2730601       44227           2843  \n",
       "2  2012-10-04     2764300       17836           1383  "
      ]
     },
     "execution_count": 3,
     "metadata": {},
     "output_type": "execute_result"
    }
   ],
   "source": [
    "df = pd.read_csv(\n",
    "    '/Users/Arthur/Dropbox/YouTube_channel_analysis/food_wishes_from2012.csv'\n",
    ")\n",
    "\n",
    "df.head(3)"
   ]
  },
  {
   "cell_type": "code",
   "execution_count": 4,
   "metadata": {},
   "outputs": [],
   "source": [
    "df = df.drop(columns=['Unnamed: 0'])"
   ]
  },
  {
   "cell_type": "code",
   "execution_count": 5,
   "metadata": {},
   "outputs": [],
   "source": [
    "df['upload_date'] = pd.to_datetime(df['upload_date'], format='%Y-%m-%d')"
   ]
  },
  {
   "cell_type": "code",
   "execution_count": 6,
   "metadata": {},
   "outputs": [
    {
     "data": {
      "text/plain": [
       "video_id                 object\n",
       "video_title              object\n",
       "upload_date      datetime64[ns]\n",
       "view_count                int64\n",
       "like_count                int64\n",
       "comment_count             int64\n",
       "dtype: object"
      ]
     },
     "execution_count": 6,
     "metadata": {},
     "output_type": "execute_result"
    }
   ],
   "source": [
    "df.dtypes"
   ]
  },
  {
   "cell_type": "code",
   "execution_count": 8,
   "metadata": {},
   "outputs": [],
   "source": [
    "df['upload_year'] = df['upload_date'].dt.year\n",
    "df['upload_month'] = df['upload_date'].dt.month\n",
    "df['upload_day'] = df['upload_date'].dt.day"
   ]
  },
  {
   "cell_type": "code",
   "execution_count": 14,
   "metadata": {},
   "outputs": [
    {
     "data": {
      "text/html": [
       "<div>\n",
       "<style scoped>\n",
       "    .dataframe tbody tr th:only-of-type {\n",
       "        vertical-align: middle;\n",
       "    }\n",
       "\n",
       "    .dataframe tbody tr th {\n",
       "        vertical-align: top;\n",
       "    }\n",
       "\n",
       "    .dataframe thead th {\n",
       "        text-align: right;\n",
       "    }\n",
       "</style>\n",
       "<table border=\"1\" class=\"dataframe\">\n",
       "  <thead>\n",
       "    <tr style=\"text-align: right;\">\n",
       "      <th></th>\n",
       "      <th>view_count</th>\n",
       "      <th>like_count</th>\n",
       "      <th>comment_count</th>\n",
       "      <th>upload_month</th>\n",
       "      <th>upload_day</th>\n",
       "    </tr>\n",
       "    <tr>\n",
       "      <th>upload_year</th>\n",
       "      <th></th>\n",
       "      <th></th>\n",
       "      <th></th>\n",
       "      <th></th>\n",
       "      <th></th>\n",
       "    </tr>\n",
       "  </thead>\n",
       "  <tbody>\n",
       "    <tr>\n",
       "      <th>2012</th>\n",
       "      <td>81142427</td>\n",
       "      <td>1278458</td>\n",
       "      <td>76322</td>\n",
       "      <td>587</td>\n",
       "      <td>1408</td>\n",
       "    </tr>\n",
       "    <tr>\n",
       "      <th>2013</th>\n",
       "      <td>98461871</td>\n",
       "      <td>1796755</td>\n",
       "      <td>98200</td>\n",
       "      <td>611</td>\n",
       "      <td>1451</td>\n",
       "    </tr>\n",
       "    <tr>\n",
       "      <th>2014</th>\n",
       "      <td>67626538</td>\n",
       "      <td>1321696</td>\n",
       "      <td>74577</td>\n",
       "      <td>640</td>\n",
       "      <td>1518</td>\n",
       "    </tr>\n",
       "    <tr>\n",
       "      <th>2015</th>\n",
       "      <td>88340420</td>\n",
       "      <td>1899651</td>\n",
       "      <td>86981</td>\n",
       "      <td>569</td>\n",
       "      <td>1428</td>\n",
       "    </tr>\n",
       "    <tr>\n",
       "      <th>2016</th>\n",
       "      <td>44467816</td>\n",
       "      <td>1026891</td>\n",
       "      <td>37117</td>\n",
       "      <td>287</td>\n",
       "      <td>692</td>\n",
       "    </tr>\n",
       "    <tr>\n",
       "      <th>2017</th>\n",
       "      <td>49244770</td>\n",
       "      <td>1179175</td>\n",
       "      <td>41361</td>\n",
       "      <td>265</td>\n",
       "      <td>754</td>\n",
       "    </tr>\n",
       "    <tr>\n",
       "      <th>2018</th>\n",
       "      <td>32547732</td>\n",
       "      <td>928717</td>\n",
       "      <td>54186</td>\n",
       "      <td>310</td>\n",
       "      <td>793</td>\n",
       "    </tr>\n",
       "    <tr>\n",
       "      <th>2019</th>\n",
       "      <td>34239910</td>\n",
       "      <td>1092654</td>\n",
       "      <td>60258</td>\n",
       "      <td>267</td>\n",
       "      <td>743</td>\n",
       "    </tr>\n",
       "    <tr>\n",
       "      <th>2020</th>\n",
       "      <td>31517537</td>\n",
       "      <td>1325967</td>\n",
       "      <td>79616</td>\n",
       "      <td>631</td>\n",
       "      <td>1576</td>\n",
       "    </tr>\n",
       "    <tr>\n",
       "      <th>2021</th>\n",
       "      <td>22147795</td>\n",
       "      <td>1016013</td>\n",
       "      <td>61297</td>\n",
       "      <td>600</td>\n",
       "      <td>1475</td>\n",
       "    </tr>\n",
       "    <tr>\n",
       "      <th>2022</th>\n",
       "      <td>7666915</td>\n",
       "      <td>245821</td>\n",
       "      <td>12787</td>\n",
       "      <td>52</td>\n",
       "      <td>407</td>\n",
       "    </tr>\n",
       "  </tbody>\n",
       "</table>\n",
       "</div>"
      ],
      "text/plain": [
       "             view_count  like_count  comment_count  upload_month  upload_day\n",
       "upload_year                                                                 \n",
       "2012           81142427     1278458          76322           587        1408\n",
       "2013           98461871     1796755          98200           611        1451\n",
       "2014           67626538     1321696          74577           640        1518\n",
       "2015           88340420     1899651          86981           569        1428\n",
       "2016           44467816     1026891          37117           287         692\n",
       "2017           49244770     1179175          41361           265         754\n",
       "2018           32547732      928717          54186           310         793\n",
       "2019           34239910     1092654          60258           267         743\n",
       "2020           31517537     1325967          79616           631        1576\n",
       "2021           22147795     1016013          61297           600        1475\n",
       "2022            7666915      245821          12787            52         407"
      ]
     },
     "execution_count": 14,
     "metadata": {},
     "output_type": "execute_result"
    }
   ],
   "source": [
    "df.groupby('upload_year').sum()"
   ]
  }
 ],
 "metadata": {
  "interpreter": {
   "hash": "40d3a090f54c6569ab1632332b64b2c03c39dcf918b08424e98f38b5ae0af88f"
  },
  "kernelspec": {
   "display_name": "Python 3.8.12 ('base')",
   "language": "python",
   "name": "python3"
  },
  "language_info": {
   "codemirror_mode": {
    "name": "ipython",
    "version": 3
   },
   "file_extension": ".py",
   "mimetype": "text/x-python",
   "name": "python",
   "nbconvert_exporter": "python",
   "pygments_lexer": "ipython3",
   "version": "3.8.12"
  },
  "orig_nbformat": 4
 },
 "nbformat": 4,
 "nbformat_minor": 2
}
