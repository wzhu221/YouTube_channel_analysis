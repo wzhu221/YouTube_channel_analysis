{
 "cells": [
  {
   "cell_type": "code",
   "execution_count": 6,
   "metadata": {},
   "outputs": [],
   "source": [
    "import pandas as pd\n",
    "import numpy as np\n",
    "import datetime\n",
    "from nlp_workflow import nlp_workflow"
   ]
  },
  {
   "cell_type": "code",
   "execution_count": 7,
   "metadata": {},
   "outputs": [
    {
     "data": {
      "text/html": [
       "<div>\n",
       "<style scoped>\n",
       "    .dataframe tbody tr th:only-of-type {\n",
       "        vertical-align: middle;\n",
       "    }\n",
       "\n",
       "    .dataframe tbody tr th {\n",
       "        vertical-align: top;\n",
       "    }\n",
       "\n",
       "    .dataframe thead th {\n",
       "        text-align: right;\n",
       "    }\n",
       "</style>\n",
       "<table border=\"1\" class=\"dataframe\">\n",
       "  <thead>\n",
       "    <tr style=\"text-align: right;\">\n",
       "      <th></th>\n",
       "      <th>Unnamed: 0</th>\n",
       "      <th>video_id</th>\n",
       "      <th>video_title</th>\n",
       "      <th>upload_date</th>\n",
       "      <th>view_count</th>\n",
       "      <th>like_count</th>\n",
       "      <th>comment_count</th>\n",
       "    </tr>\n",
       "  </thead>\n",
       "  <tbody>\n",
       "    <tr>\n",
       "      <th>0</th>\n",
       "      <td>0</td>\n",
       "      <td>CQPLo8hECWg</td>\n",
       "      <td>Twice Baked Potatoes -- How to Make Fancy Stuf...</td>\n",
       "      <td>2012-12-15</td>\n",
       "      <td>4194592</td>\n",
       "      <td>47213</td>\n",
       "      <td>1950</td>\n",
       "    </tr>\n",
       "    <tr>\n",
       "      <th>1</th>\n",
       "      <td>1</td>\n",
       "      <td>TsrTU3CJn2c</td>\n",
       "      <td>Irish Shepherd's Pie - Classic Shepherd Pie fo...</td>\n",
       "      <td>2012-03-05</td>\n",
       "      <td>2730866</td>\n",
       "      <td>44230</td>\n",
       "      <td>2843</td>\n",
       "    </tr>\n",
       "    <tr>\n",
       "      <th>2</th>\n",
       "      <td>2</td>\n",
       "      <td>wRtGM3f-UBc</td>\n",
       "      <td>How to Flip Food in a Pan Like a Chef!</td>\n",
       "      <td>2012-10-04</td>\n",
       "      <td>2764323</td>\n",
       "      <td>17837</td>\n",
       "      <td>1382</td>\n",
       "    </tr>\n",
       "  </tbody>\n",
       "</table>\n",
       "</div>"
      ],
      "text/plain": [
       "   Unnamed: 0     video_id                                        video_title  \\\n",
       "0           0  CQPLo8hECWg  Twice Baked Potatoes -- How to Make Fancy Stuf...   \n",
       "1           1  TsrTU3CJn2c  Irish Shepherd's Pie - Classic Shepherd Pie fo...   \n",
       "2           2  wRtGM3f-UBc             How to Flip Food in a Pan Like a Chef!   \n",
       "\n",
       "  upload_date  view_count  like_count  comment_count  \n",
       "0  2012-12-15     4194592       47213           1950  \n",
       "1  2012-03-05     2730866       44230           2843  \n",
       "2  2012-10-04     2764323       17837           1382  "
      ]
     },
     "execution_count": 7,
     "metadata": {},
     "output_type": "execute_result"
    }
   ],
   "source": [
    "df = pd.read_csv('food_wishes_from2012.csv')\n",
    "df.head(3)"
   ]
  },
  {
   "cell_type": "code",
   "execution_count": 8,
   "metadata": {},
   "outputs": [],
   "source": [
    "df.drop(columns=['Unnamed: 0'], inplace=True)"
   ]
  },
  {
   "cell_type": "code",
   "execution_count": 15,
   "metadata": {},
   "outputs": [
    {
     "data": {
      "text/plain": [
       "video_id                    object\n",
       "video_title                 object\n",
       "upload_date         datetime64[ns]\n",
       "view_count                   int64\n",
       "like_count                   int64\n",
       "comment_count                int64\n",
       "upload_year                  int64\n",
       "upload_month                 int64\n",
       "upload_day                   int64\n",
       "upload_yearmonth         period[M]\n",
       "duplicates                    bool\n",
       "dtype: object"
      ]
     },
     "execution_count": 15,
     "metadata": {},
     "output_type": "execute_result"
    }
   ],
   "source": [
    "df.dtypes"
   ]
  },
  {
   "cell_type": "code",
   "execution_count": 9,
   "metadata": {},
   "outputs": [],
   "source": [
    "df['upload_date'] = pd.to_datetime(df['upload_date'], format='%Y-%m-%d')\n",
    "df['upload_year'] = df['upload_date'].dt.year\n",
    "df['upload_month'] = df['upload_date'].dt.month\n",
    "df['upload_day'] = df['upload_date'].dt.day\n",
    "df['upload_yearmonth'] = df['upload_date'].dt.to_period('M')"
   ]
  },
  {
   "cell_type": "code",
   "execution_count": null,
   "metadata": {},
   "outputs": [],
   "source": []
  },
  {
   "cell_type": "code",
   "execution_count": null,
   "metadata": {},
   "outputs": [],
   "source": [
    "df['duplicates'] = df['video_id'].duplicated(keep=False)\n",
    "duplicates = df[df['duplicates'] == True]\n",
    "duplicates"
   ]
  },
  {
   "cell_type": "code",
   "execution_count": null,
   "metadata": {},
   "outputs": [],
   "source": [
    "df['video_id'].dtype"
   ]
  },
  {
   "cell_type": "code",
   "execution_count": null,
   "metadata": {},
   "outputs": [],
   "source": []
  },
  {
   "cell_type": "code",
   "execution_count": 4,
   "metadata": {},
   "outputs": [
    {
     "data": {
      "text/html": [
       "<div>\n",
       "<style scoped>\n",
       "    .dataframe tbody tr th:only-of-type {\n",
       "        vertical-align: middle;\n",
       "    }\n",
       "\n",
       "    .dataframe tbody tr th {\n",
       "        vertical-align: top;\n",
       "    }\n",
       "\n",
       "    .dataframe thead th {\n",
       "        text-align: right;\n",
       "    }\n",
       "</style>\n",
       "<table border=\"1\" class=\"dataframe\">\n",
       "  <thead>\n",
       "    <tr style=\"text-align: right;\">\n",
       "      <th></th>\n",
       "      <th>Unnamed: 0</th>\n",
       "      <th>video_id</th>\n",
       "      <th>video_title</th>\n",
       "      <th>upload_date</th>\n",
       "      <th>view_count</th>\n",
       "      <th>like_count</th>\n",
       "      <th>comment_count</th>\n",
       "      <th>video_title_nlp</th>\n",
       "    </tr>\n",
       "  </thead>\n",
       "  <tbody>\n",
       "    <tr>\n",
       "      <th>0</th>\n",
       "      <td>0</td>\n",
       "      <td>CQPLo8hECWg</td>\n",
       "      <td>Twice Baked Potatoes -- How to Make Fancy Stuf...</td>\n",
       "      <td>2012-12-15</td>\n",
       "      <td>4194592</td>\n",
       "      <td>47213</td>\n",
       "      <td>1950</td>\n",
       "      <td>[twice, bake, potato, make, fanci, stuf, potato]</td>\n",
       "    </tr>\n",
       "    <tr>\n",
       "      <th>1</th>\n",
       "      <td>1</td>\n",
       "      <td>TsrTU3CJn2c</td>\n",
       "      <td>Irish Shepherd's Pie - Classic Shepherd Pie fo...</td>\n",
       "      <td>2012-03-05</td>\n",
       "      <td>2730866</td>\n",
       "      <td>44230</td>\n",
       "      <td>2843</td>\n",
       "      <td>[irish, shepherd, pie, classic, shepherd, pie,...</td>\n",
       "    </tr>\n",
       "    <tr>\n",
       "      <th>2</th>\n",
       "      <td>2</td>\n",
       "      <td>wRtGM3f-UBc</td>\n",
       "      <td>How to Flip Food in a Pan Like a Chef!</td>\n",
       "      <td>2012-10-04</td>\n",
       "      <td>2764323</td>\n",
       "      <td>17837</td>\n",
       "      <td>1382</td>\n",
       "      <td>[flip, food, pan, like, chef]</td>\n",
       "    </tr>\n",
       "  </tbody>\n",
       "</table>\n",
       "</div>"
      ],
      "text/plain": [
       "   Unnamed: 0     video_id                                        video_title  \\\n",
       "0           0  CQPLo8hECWg  Twice Baked Potatoes -- How to Make Fancy Stuf...   \n",
       "1           1  TsrTU3CJn2c  Irish Shepherd's Pie - Classic Shepherd Pie fo...   \n",
       "2           2  wRtGM3f-UBc             How to Flip Food in a Pan Like a Chef!   \n",
       "\n",
       "  upload_date  view_count  like_count  comment_count  \\\n",
       "0  2012-12-15     4194592       47213           1950   \n",
       "1  2012-03-05     2730866       44230           2843   \n",
       "2  2012-10-04     2764323       17837           1382   \n",
       "\n",
       "                                     video_title_nlp  \n",
       "0   [twice, bake, potato, make, fanci, stuf, potato]  \n",
       "1  [irish, shepherd, pie, classic, shepherd, pie,...  \n",
       "2                      [flip, food, pan, like, chef]  "
      ]
     },
     "execution_count": 4,
     "metadata": {},
     "output_type": "execute_result"
    }
   ],
   "source": [
    "df = nlp_workflow(df=df, columns=['video_title'])\n",
    "df.head(1)"
   ]
  },
  {
   "cell_type": "code",
   "execution_count": 16,
   "metadata": {},
   "outputs": [
    {
     "data": {
      "text/plain": [
       "upload_yearmonth\n",
       "2013-04    21228400\n",
       "2012-02    17862570\n",
       "2017-04    12954284\n",
       "2015-03    12722974\n",
       "2015-06    12203355\n",
       "             ...   \n",
       "2021-07     1639196\n",
       "2021-09     1600416\n",
       "2020-11     1328946\n",
       "2019-12     1321833\n",
       "2022-03      530099\n",
       "Freq: M, Name: view_count, Length: 123, dtype: int64"
      ]
     },
     "execution_count": 16,
     "metadata": {},
     "output_type": "execute_result"
    }
   ],
   "source": [
    "df.groupby('upload_yearmonth').sum().sort_values(by='view_count', ascending=False)['view_count']"
   ]
  }
 ],
 "metadata": {
  "interpreter": {
   "hash": "40d3a090f54c6569ab1632332b64b2c03c39dcf918b08424e98f38b5ae0af88f"
  },
  "kernelspec": {
   "display_name": "Python 3.8.12 ('base')",
   "language": "python",
   "name": "python3"
  },
  "language_info": {
   "codemirror_mode": {
    "name": "ipython",
    "version": 3
   },
   "file_extension": ".py",
   "mimetype": "text/x-python",
   "name": "python",
   "nbconvert_exporter": "python",
   "pygments_lexer": "ipython3",
   "version": "3.9.7"
  },
  "orig_nbformat": 4
 },
 "nbformat": 4,
 "nbformat_minor": 2
}
